{
 "cells": [
  {
   "cell_type": "markdown",
   "metadata": {},
   "source": [
    "## Libraries"
   ]
  },
  {
   "cell_type": "code",
   "execution_count": 5,
   "metadata": {},
   "outputs": [],
   "source": [
    "# Standard Library Imports\n",
    "import codecs\n",
    "import json\n",
    "import math\n",
    "from os import path\n",
    "\n",
    "# Third-Party Imports\n",
    "import hdbscan\n",
    "import matplotlib.pyplot as plt\n",
    "import numpy as np\n",
    "import pandas as pd\n",
    "import spacy\n",
    "import textacy\n",
    "import textacy.tm\n",
    "import textacy.preprocessing\n",
    "import umap.umap_ as umap\n",
    "from wordcloud import WordCloud, get_single_color_func\n",
    "from PIL import Image, ImageDraw\n",
    "import multidict as multidict\n",
    "from scipy.spatial import ConvexHull\n",
    "from scipy import interpolate\n",
    "\n",
    "# Specific Imports\n",
    "# from pointgrid import align_points_to_grid"
   ]
  },
  {
   "attachments": {},
   "cell_type": "markdown",
   "metadata": {},
   "source": [
    "## Dataset"
   ]
  },
  {
   "cell_type": "code",
   "execution_count": 6,
   "metadata": {},
   "outputs": [
    {
     "name": "stdout",
     "output_type": "stream",
     "text": [
      "The number of elements is 56\n"
     ]
    }
   ],
   "source": [
    "with open('PAP.md', 'r') as f: md = f.read()\n",
    "pages = md.split(\"\\n\") # Split in pages\n",
    "\n",
    "print(f\"The number of elements is {len(pages)}\")"
   ]
  },
  {
   "cell_type": "markdown",
   "metadata": {},
   "source": [
    "## Text Analysis"
   ]
  },
  {
   "cell_type": "code",
   "execution_count": 7,
   "metadata": {
    "tags": []
   },
   "outputs": [
    {
     "name": "stdout",
     "output_type": "stream",
     "text": [
      "The number of elements is 56\n"
     ]
    }
   ],
   "source": [
    "en = textacy.load_spacy_lang(\"en_core_web_lg\", disable=(\"parser\",))\n",
    "\n",
    "docs = [] # spaCy collector\n",
    "\n",
    "for index, page in enumerate(pages):\n",
    "    doc = textacy.make_spacy_doc(page, lang=en)\n",
    "    docs.append(doc)\n",
    "\n",
    "print(f\"The number of elements is {len(docs)}\")    "
   ]
  },
  {
   "cell_type": "markdown",
   "metadata": {},
   "source": [
    "# Lematization"
   ]
  },
  {
   "cell_type": "code",
   "execution_count": 9,
   "metadata": {
    "tags": []
   },
   "outputs": [
    {
     "name": "stdout",
     "output_type": "stream",
     "text": [
      "Vocabulary's docs are 56 and terms are 457 \n",
      "\n",
      "relation: 73.99258672069362\n",
      "line: 71.03842382796671\n",
      "graph: 67.56152681125845\n",
      "reasoning: 52.04014011783328\n",
      "form: 49.03502240137912\n",
      "number: 48.37905373847161\n",
      "point: 47.417755618475425\n",
      "object: 41.106992622607564\n",
      "spot: 41.106992622607564\n",
      "question: 40.9303138887448\n"
     ]
    }
   ],
   "source": [
    "from functools import partial\n",
    "\n",
    "stopwords = set([\n",
    "    'pap', 'the', 'and', 'for', 'with', 'that', 'this', 'from', 'are', 'was', \n",
    "    'were', 'has', 'have', 'had', 'not', 'but', 'also', 'which', 'they', 'them', \n",
    "    'their', 'your', 'yours', 'ourselves', 'themselves', 'what', 'when', 'where', \n",
    "    'why', 'how', 'all', 'any', 'both', 'each', 'few', 'more', 'most', 'other', \n",
    "    'some', 'such', 'only', 'own', 'same', 'than', 'too', 'very', 'just', 'don', \n",
    "    'should', 'couldn', 'didn', 'doesn', 'hadn', 'hasn', 'haven', 'mightn', \n",
    "    'mustn', 'needn', 'shan', 'shouldn', 'wasn', 'weren', 'won', 'wouldn', \n",
    "    'somewhat', 'instead', 'even', 'often', 'perhaps', 'therefore', 'although', \n",
    "    'because', 'whether', 'unless', 'however', 'although', 'yet', 'and/or', \n",
    "    'involving', 'among', 'per', 'during', 'like', 'before', 'after', 'down', \n",
    "    'over', 'under', 'between', 'across', 'along', 'behind', 'through', 'until', \n",
    "    'around', 'amongst', 'throughout', 'despite', 'within', 'above', 'below', \n",
    "    'inside', 'outside', 'year', 'vey', 'use', 'way', 'zur'\n",
    "]) # Define a list of specific stopwords\n",
    "\n",
    "lemmas_collector = [] # Initialize an empty list to store the lemmas\n",
    "\n",
    "# Loop through each document in the `docs` collection\n",
    "for doc in docs:\n",
    "\n",
    "    config = partial(textacy.extract.ngrams, n=[1], include_pos={'NOUN'})  # Define n-gram extraction\n",
    "    terms = textacy.extract.terms(doc, ngs=config)  # Extract terms\n",
    "    lemmas = textacy.extract.terms_to_strings(terms, by=\"lemma\")  # Convert terms to lemmas\n",
    "    \n",
    "    lemmas = [l for l in lemmas if l not in stopwords]  # Remove exact match stopwords\n",
    "    lemmas = [l for l in lemmas if '||||' not in l]  # Remove terms with '||||' as substring\n",
    "    lemmas = [l for l in lemmas if len(l) > 2]  # Remove terms with 2 or fewer characters\n",
    "\n",
    "\n",
    "    lemmas_collector.append(list(lemmas))  # Collect the lemmas\n",
    "\n",
    "# Create a document-term matrix (DTM) from the collected lemmas\n",
    "doc_term_matrix, dictionary = textacy.representations.build_doc_term_matrix(\n",
    "    lemmas_collector, tf_type=\"linear\", idf_type=\"smooth\"  # Build DTM with TF-IDF\n",
    ")\n",
    "\n",
    "# Output\n",
    "print('Vocabulary\\'s docs are', doc_term_matrix.shape[0], 'and terms are', doc_term_matrix.shape[1], '\\n')\n",
    "\n",
    "\n",
    "# Print top 100 terms\n",
    "sorted_terms = sorted(\n",
    "    {term: np.array(doc_term_matrix.sum(axis=0)).flatten()[idx] for term, idx in dictionary.items()}.items(),\n",
    "    key=lambda item: item[1], reverse=True\n",
    ")\n",
    "\n",
    "print(\"\\n\".join([f\"{term}: {frequency}\" for term, frequency in sorted_terms[0:10]]))"
   ]
  },
  {
   "cell_type": "markdown",
   "metadata": {},
   "source": [
    "## UMAP"
   ]
  },
  {
   "cell_type": "code",
   "execution_count": 11,
   "metadata": {},
   "outputs": [
    {
     "name": "stderr",
     "output_type": "stream",
     "text": [
      "/opt/homebrew/Caskroom/miniconda/base/envs/peirce/lib/python3.10/site-packages/umap/umap_.py:1943: UserWarning: n_jobs value -1 overridden to 1 by setting random_state. Use no seed for parallelism.\n",
      "  warn(f\"n_jobs value {self.n_jobs} overridden to 1 by setting random_state. Use no seed for parallelism.\")\n"
     ]
    },
    {
     "data": {
      "image/png": "[encoded data removed]",
      "text/plain": [
       "<Figure size 800x800 with 1 Axes>"
      ]
     },
     "metadata": {},
     "output_type": "display_data"
    }
   ],
   "source": [
    "# UMAP\n",
    "reducer = umap.UMAP(random_state=2, n_components=2, n_neighbors=5, min_dist=0.01, metric='cosine')\n",
    "embedding = reducer.fit_transform(doc_term_matrix)\n",
    "\n",
    "# Normalization\n",
    "embedding = embedding * 100 # Multiply by 100\n",
    "# embedding = align_points_to_grid(embedding)\n",
    "\n",
    "# Swap axes for horizontal position\n",
    "ptp = np.ptp(embedding, axis=0)\n",
    "if ptp[1]> ptp[0]:\n",
    "    embedding[:, [1, 0]] = embedding[:, [0, 1]]\n",
    "\n",
    "# Set value starting from 0\n",
    "embedding[:, 0] = embedding[:, 0] - embedding[:, 0].min()\n",
    "embedding[:, 1] = embedding[:, 1] - embedding[:, 1].min()\n",
    "\n",
    "# Set origin at the middle\n",
    "ptp = np.ptp(embedding, axis=0)\n",
    "embedding[:, 0] = embedding[:, 0] - ptp[0] / 2\n",
    "embedding[:, 1] = embedding[:, 1] - ptp[1] / 2\n",
    "\n",
    "# Transform coordinates in integer\n",
    "embedding = embedding.astype(int)\n",
    "\n",
    "# Draw\n",
    "plt.figure(figsize=(10,10), dpi=80)\n",
    "plt.scatter(embedding[:, 0], embedding[:, 1], s=0)\n",
    "plt.axis('equal')\n",
    "\n",
    "for i, row in enumerate(embedding):\n",
    "    text = plt.annotate(i, (row[0], row[1]))\n",
    "    text.set_fontsize(10)\n",
    "\n",
    "plt.show()"
   ]
  },
  {
   "cell_type": "markdown",
   "metadata": {},
   "source": [
    "## Cluster Identification"
   ]
  },
  {
   "cell_type": "code",
   "execution_count": 12,
   "metadata": {},
   "outputs": [
    {
     "name": "stdout",
     "output_type": "stream",
     "text": [
      "Processed cluster 0, elements=6\n",
      "Processed cluster 1, elements=9\n",
      "Processed cluster 2, elements=7\n",
      "Processed cluster 3, elements=7\n",
      "Processed cluster 4, elements=8\n",
      "Processed cluster 5, elements=3\n",
      "Final number of clusters: 6\n"
     ]
    }
   ],
   "source": [
    "# Perform clustering with HDBSCAN\n",
    "clusterer = hdbscan.HDBSCAN(min_cluster_size=3, cluster_selection_method='leaf')\n",
    "clusterer.fit(embedding)\n",
    "\n",
    "# Get cluster labels\n",
    "cluster_labels = clusterer.labels_\n",
    "\n",
    "# Group clusters, filtering out noise and small clusters within the loop\n",
    "scale = 4\n",
    "clusters = []\n",
    "\n",
    "for label in set(cluster_labels):\n",
    "    if label == -1:  # Skip noise clusters\n",
    "        continue\n",
    "\n",
    "    # Get indices of points in the cluster\n",
    "    cluster = np.where(cluster_labels == label)[0]\n",
    "\n",
    "    if len(cluster) < 3:  # Skip clusters with fewer than 3 elements\n",
    "        continue\n",
    "\n",
    "    # Preprocess cluster points\n",
    "    cluster_points = embedding[cluster] * scale\n",
    "    points = [(x - cluster_points[:, 0].min(), y - cluster_points[:, 1].min()) for x, y in cluster_points]\n",
    "\n",
    "    if np.linalg.matrix_rank(points - np.mean(points, axis=0)) < 2:  # Skip degenerate clusters\n",
    "        continue\n",
    "\n",
    "    # Generate convex hull and interpolated points\n",
    "    hull = ConvexHull(points)\n",
    "    hull_points = np.vstack([hull.points[hull.vertices], hull.points[hull.vertices][0]])\n",
    "    dist = np.insert(np.cumsum(np.sqrt(np.sum(np.diff(hull_points, axis=0)**2, axis=1))), 0, 0)\n",
    "    spline, _ = interpolate.splprep([hull_points[:, 0], hull_points[:, 1]], u=dist, s=0)\n",
    "    interp_x, interp_y = interpolate.splev(np.linspace(0, dist[-1], 50), spline)\n",
    "    interp_points = list(zip(interp_x, interp_y))\n",
    "\n",
    "    # Create mask\n",
    "    width, height = int(cluster_points[:, 0].max() - cluster_points[:, 0].min()), int(cluster_points[:, 1].max() - cluster_points[:, 1].min())\n",
    "    img = Image.new(\"RGBA\", (width, height), (255, 255, 255))\n",
    "    ImageDraw.Draw(img).polygon(interp_points, fill=(0, 0, 0))\n",
    "    mask = np.array(img)\n",
    "\n",
    "    # Collect text and calculate word frequencies\n",
    "    text = ' '.join(sum((lemmas_collector[i] for i in cluster), []))\n",
    "    dictionary = {word: text.split().count(word) for word in set(text.split())}\n",
    "\n",
    "    # Generate and save word cloud\n",
    "    wc = WordCloud(\n",
    "        mode=\"RGBA\", color_func=lambda *args, **kwargs: (0, 0, 0),\n",
    "        font_path=path.join('Lato-Regular.ttf'), mask=mask,\n",
    "        normalize_plurals=False, prefer_horizontal=1,\n",
    "        margin=40, background_color=None,\n",
    "        min_font_size=10, max_font_size=100, relative_scaling=0\n",
    "    ).generate_from_frequencies(dictionary)\n",
    "    wc.to_file(path.join(\"../src/wordclouds/\", f\"{label:02}.png\"))\n",
    "\n",
    "    clusters.append(cluster)  # Add valid cluster to the list\n",
    "    print(f\"Processed cluster {label}, elements={len(cluster)}\")\n",
    "\n",
    "print(f\"Final number of clusters: {len(clusters)}\")"
   ]
  },
  {
   "cell_type": "markdown",
   "metadata": {},
   "source": [
    "# Save Files"
   ]
  },
  {
   "cell_type": "code",
   "execution_count": 13,
   "metadata": {},
   "outputs": [
    {
     "name": "stdout",
     "output_type": "stream",
     "text": [
      "Files saved successfully.\n"
     ]
    }
   ],
   "source": [
    "# Convert clusters to a JSON-serializable format\n",
    "serializable_clusters = [cluster.tolist() if isinstance(cluster, np.ndarray) else cluster for cluster in clusters]\n",
    "\n",
    "# Save the data to JSON files\n",
    "json.dump(embedding.tolist(), codecs.open('../src/data/embedding.json', 'w', encoding='utf-8'), separators=(',', ':'), sort_keys=False, indent=4)\n",
    "json.dump(lemmas_collector, codecs.open('../src/data/lemmas.json', 'w', encoding='utf-8'), separators=(',', ':'), sort_keys=False, indent=4)\n",
    "json.dump(serializable_clusters, codecs.open('../src/data/clusters.json', 'w', encoding='utf-8'), separators=(',', ':'), sort_keys=False, indent=4)\n",
    "\n",
    "print(\"Files saved successfully.\")"
   ]
  }
 ],
 "metadata": {
  "kernelspec": {
   "display_name": "peirce",
   "language": "python",
   "name": "python3"
  },
  "language_info": {
   "codemirror_mode": {
    "name": "ipython",
    "version": 3
   },
   "file_extension": ".py",
   "mimetype": "text/x-python",
   "name": "python",
   "nbconvert_exporter": "python",
   "pygments_lexer": "ipython3",
   "version": "3.10.13"
  },
  "orig_nbformat": 2
 },
 "nbformat": 4,
 "nbformat_minor": 2
}
