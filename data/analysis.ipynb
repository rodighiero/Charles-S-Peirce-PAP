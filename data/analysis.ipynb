{
 "cells": [
  {
   "cell_type": "markdown",
   "metadata": {},
   "source": [
    "## Libraries"
   ]
  },
  {
   "cell_type": "code",
   "execution_count": 249,
   "metadata": {},
   "outputs": [],
   "source": [
    "# Standard Library Imports\n",
    "import codecs\n",
    "import json\n",
    "import math\n",
    "from os import path\n",
    "\n",
    "# Third-Party Imports\n",
    "import hdbscan\n",
    "import matplotlib.pyplot as plt\n",
    "import numpy as np\n",
    "import pandas as pd\n",
    "import spacy\n",
    "import textacy\n",
    "import textacy.tm\n",
    "import textacy.preprocessing\n",
    "import umap.umap_ as umap\n",
    "from wordcloud import WordCloud, get_single_color_func\n",
    "from PIL import Image, ImageDraw\n",
    "import multidict as multidict\n",
    "from scipy.spatial import ConvexHull\n",
    "from scipy import interpolate\n",
    "\n",
    "# Specific Imports\n",
    "# from pointgrid import align_points_to_grid"
   ]
  },
  {
   "attachments": {},
   "cell_type": "markdown",
   "metadata": {},
   "source": [
    "## Dataset"
   ]
  },
  {
   "cell_type": "code",
   "execution_count": 250,
   "metadata": {},
   "outputs": [
    {
     "name": "stdout",
     "output_type": "stream",
     "text": [
      "The number of elements is 56\n"
     ]
    }
   ],
   "source": [
    "with open('PAP.md', 'r') as f: md = f.read()\n",
    "pages = md.split(\"\\n\") # Split in pages\n",
    "\n",
    "print(f\"The number of elements is {len(pages)}\")"
   ]
  },
  {
   "cell_type": "markdown",
   "metadata": {},
   "source": [
    "## Text Analysis"
   ]
  },
  {
   "cell_type": "code",
   "execution_count": 251,
   "metadata": {
    "tags": []
   },
   "outputs": [
    {
     "name": "stdout",
     "output_type": "stream",
     "text": [
      "The number of elements is 56\n"
     ]
    }
   ],
   "source": [
    "en = textacy.load_spacy_lang(\"en_core_web_lg\", disable=(\"parser\",))\n",
    "\n",
    "docs = [] # spaCy collector\n",
    "\n",
    "for index, page in enumerate(pages):\n",
    "    doc = textacy.make_spacy_doc(page, lang=en)\n",
    "    docs.append(doc)\n",
    "\n",
    "print(f\"The number of elements is {len(docs)}\")    "
   ]
  },
  {
   "cell_type": "markdown",
   "metadata": {},
   "source": [
    "# Lematization"
   ]
  },
  {
   "cell_type": "code",
   "execution_count": 252,
   "metadata": {
    "tags": []
   },
   "outputs": [
    {
     "name": "stdout",
     "output_type": "stream",
     "text": [
      "Vocabulary's docs are 56 and terms are 457 \n",
      "\n",
      "relation: 73.99258672069362\n",
      "line: 71.03842382796671\n",
      "graph: 67.56152681125845\n",
      "reasoning: 52.04014011783328\n",
      "form: 49.03502240137912\n",
      "number: 48.37905373847161\n",
      "point: 47.417755618475425\n",
      "object: 41.106992622607564\n",
      "spot: 41.106992622607564\n",
      "question: 40.9303138887448\n"
     ]
    }
   ],
   "source": [
    "stopwords = set([\n",
    "    'pap', 'the', 'and', 'for', 'with', 'that', 'this', 'from', 'are', 'was', \n",
    "    'were', 'has', 'have', 'had', 'not', 'but', 'also', 'which', 'they', 'them', \n",
    "    'their', 'your', 'yours', 'ourselves', 'themselves', 'what', 'when', 'where', \n",
    "    'why', 'how', 'all', 'any', 'both', 'each', 'few', 'more', 'most', 'other', \n",
    "    'some', 'such', 'only', 'own', 'same', 'than', 'too', 'very', 'just', 'don', \n",
    "    'should', 'couldn', 'didn', 'doesn', 'hadn', 'hasn', 'haven', 'mightn', \n",
    "    'mustn', 'needn', 'shan', 'shouldn', 'wasn', 'weren', 'won', 'wouldn', \n",
    "    'somewhat', 'instead', 'even', 'often', 'perhaps', 'therefore', 'although', \n",
    "    'because', 'whether', 'unless', 'however', 'although', 'yet', 'and/or', \n",
    "    'involving', 'among', 'per', 'during', 'like', 'before', 'after', 'down', \n",
    "    'over', 'under', 'between', 'across', 'along', 'behind', 'through', 'until', \n",
    "    'around', 'amongst', 'throughout', 'despite', 'within', 'above', 'below', \n",
    "    'inside', 'outside', 'year', 'vey', 'use', 'way', 'zur'\n",
    "]) # Define a list of specific stopwords\n",
    "\n",
    "lemmas_collector = [] # Initialize an empty list to store the lemmas\n",
    "\n",
    "# Loop through each document in the `docs` collection\n",
    "for doc in docs:\n",
    "\n",
    "    config = partial(textacy.extract.ngrams, n=[1], include_pos={'NOUN'})  # Define n-gram extraction\n",
    "    terms = textacy.extract.terms(doc, ngs=config)  # Extract terms\n",
    "    lemmas = textacy.extract.terms_to_strings(terms, by=\"lemma\")  # Convert terms to lemmas\n",
    "    \n",
    "    lemmas = [l for l in lemmas if l not in stopwords]  # Remove exact match stopwords\n",
    "    lemmas = [l for l in lemmas if '||||' not in l]  # Remove terms with '||||' as substring\n",
    "    lemmas = [l for l in lemmas if len(l) > 2]  # Remove terms with 2 or fewer characters\n",
    "\n",
    "\n",
    "    lemmas_collector.append(list(lemmas))  # Collect the lemmas\n",
    "\n",
    "# Create a document-term matrix (DTM) from the collected lemmas\n",
    "doc_term_matrix, dictionary = textacy.representations.build_doc_term_matrix(\n",
    "    lemmas_collector, tf_type=\"linear\", idf_type=\"smooth\"  # Build DTM with TF-IDF\n",
    ")\n",
    "\n",
    "# Output\n",
    "print('Vocabulary\\'s docs are', doc_term_matrix.shape[0], 'and terms are', doc_term_matrix.shape[1], '\\n')\n",
    "\n",
    "\n",
    "# Print top 100 terms\n",
    "sorted_terms = sorted(\n",
    "    {term: np.array(doc_term_matrix.sum(axis=0)).flatten()[idx] for term, idx in dictionary.items()}.items(),\n",
    "    key=lambda item: item[1], reverse=True\n",
    ")\n",
    "\n",
    "print(\"\\n\".join([f\"{term}: {frequency}\" for term, frequency in sorted_terms[0:10]]))"
   ]
  },
  {
   "cell_type": "markdown",
   "metadata": {},
   "source": [
    "## UMAP"
   ]
  },
  {
   "cell_type": "code",
   "execution_count": 253,
   "metadata": {},
   "outputs": [
    {
     "name": "stderr",
     "output_type": "stream",
     "text": [
      "/opt/homebrew/Caskroom/miniconda/base/envs/peirce/lib/python3.10/site-packages/umap/umap_.py:1943: UserWarning: n_jobs value -1 overridden to 1 by setting random_state. Use no seed for parallelism.\n",
      "  warn(f\"n_jobs value {self.n_jobs} overridden to 1 by setting random_state. Use no seed for parallelism.\")\n"
     ]
    },
    {
     "data": {
      "image/png": "[encoded data removed]",
      "text/plain": [
       "<Figure size 800x800 with 1 Axes>"
      ]
     },
     "metadata": {},
     "output_type": "display_data"
    }
   ],
   "source": [
    "# UMAP\n",
    "reducer = umap.UMAP(random_state=2, n_components=2, n_neighbors=2, min_dist=0.01, metric='hellinger')\n",
    "embedding = reducer.fit_transform(doc_term_matrix)\n",
    "\n",
    "# Normalization\n",
    "embedding = embedding * 100 # Multiply by 100\n",
    "# embedding = align_points_to_grid(embedding)\n",
    "\n",
    "# Swap axes for horizontal position\n",
    "ptp = np.ptp(embedding, axis=0)\n",
    "if ptp[1]> ptp[0]:\n",
    "    embedding[:, [1, 0]] = embedding[:, [0, 1]]\n",
    "\n",
    "# Set value starting from 0\n",
    "embedding[:, 0] = embedding[:, 0] - embedding[:, 0].min()\n",
    "embedding[:, 1] = embedding[:, 1] - embedding[:, 1].min()\n",
    "\n",
    "# Set origin at the middle\n",
    "ptp = np.ptp(embedding, axis=0)\n",
    "embedding[:, 0] = embedding[:, 0] - ptp[0] / 2\n",
    "embedding[:, 1] = embedding[:, 1] - ptp[1] / 2\n",
    "\n",
    "# Transform coordinates in integer\n",
    "embedding = embedding.astype(int)\n",
    "\n",
    "# Draw\n",
    "plt.figure(figsize=(10,10), dpi=80)\n",
    "plt.scatter(embedding[:, 0], embedding[:, 1], s=0)\n",
    "plt.axis('equal')\n",
    "\n",
    "for i, row in enumerate(embedding):\n",
    "    text = plt.annotate(i, (row[0], row[1]))\n",
    "    text.set_fontsize(10)\n",
    "\n",
    "plt.show()\n",
    "    "
   ]
  },
  {
   "cell_type": "markdown",
   "metadata": {},
   "source": [
    "## Cluster Identification"
   ]
  },
  {
   "cell_type": "code",
   "execution_count": 254,
   "metadata": {},
   "outputs": [
    {
     "name": "stdout",
     "output_type": "stream",
     "text": [
      "The initial clusters identified are 8 \n",
      "\n",
      "Processed cluster 0, max_words=2\n",
      "Processed cluster 1, max_words=2\n",
      "Processed cluster 2, max_words=2\n",
      "Processed cluster 3, max_words=1\n",
      "Processed cluster 4, max_words=2\n",
      "Processed cluster 5, max_words=1\n",
      "Processed cluster 6, max_words=3\n",
      "Skipping cluster 7: noise cluster (-1)\n",
      "\n",
      "The final valid clusters are 7\n"
     ]
    }
   ],
   "source": [
    "# Perform clustering with HDBSCAN\n",
    "clusterer = hdbscan.HDBSCAN(min_cluster_size=3, cluster_selection_method='leaf')\n",
    "clusterer.fit(embedding)  # Fit the HDBSCAN algorithm on the embedding data\n",
    "\n",
    "# Get cluster labels assigned by HDBSCAN\n",
    "cluster_labels = clusterer.labels_\n",
    "\n",
    "# Group points into clusters without pre-filtering\n",
    "clusters = [\n",
    "    [i for i, label in enumerate(cluster_labels) if label == cluster]  # Collect indices for each cluster label\n",
    "    for cluster in set(cluster_labels)  # Iterate over unique cluster labels\n",
    "]\n",
    "\n",
    "print('The initial clusters identified are', len(clusters), '\\n')  # Display the number of initial clusters\n",
    "\n",
    "scale = 4  # Scaling factor for embedding coordinates\n",
    "valid_clusters = []  # Initialize a list to store only valid clusters\n",
    "\n",
    "for index, cluster in enumerate(clusters):  # Loop through each cluster\n",
    "    # Skip clusters labeled as noise (-1)\n",
    "    if cluster_labels[cluster[0]] == -1:  # Check if the cluster label is -1 (noise)\n",
    "        print(f\"Skipping cluster {index}: noise cluster (-1)\")  # Log the skip reason\n",
    "        continue  # Move to the next cluster\n",
    "\n",
    "    # Skip clusters with fewer than 3 elements\n",
    "    if len(cluster) < 3:  # Check if the cluster size is less than 3\n",
    "        print(f\"Skipping cluster {index}: fewer than 3 elements\")  # Log the skip reason\n",
    "        continue  # Move to the next cluster\n",
    "\n",
    "    # Preprocess cluster points\n",
    "    cluster_points = embedding[cluster] * scale  # Scale cluster points for better visualization\n",
    "    points = [(x - cluster_points[:, 0].min(), y - cluster_points[:, 1].min())  # Shift points to minimum origin\n",
    "              for x, y in cluster_points]\n",
    "\n",
    "    # Skip degenerate clusters (points are collinear or too flat)\n",
    "    if np.linalg.matrix_rank(np.array(points) - np.mean(points, axis=0)) < 2:  # Check if rank is less than 2\n",
    "        print(f\"Skipping cluster {index}: degenerate points\")  # Log the skip reason\n",
    "        continue  # Move to the next cluster\n",
    "\n",
    "    # Add the current valid cluster to the valid_clusters list\n",
    "    valid_clusters.append(cluster)\n",
    "\n",
    "    # Generate convex hull to create a boundary around the cluster\n",
    "    min_X, max_X = cluster_points[:, 0].min(), cluster_points[:, 0].max()  # Find the min and max X coordinates\n",
    "    min_Y, max_Y = cluster_points[:, 1].min(), cluster_points[:, 1].max()  # Find the min and max Y coordinates\n",
    "    width, height = int(max_X - min_X), int(max_Y - min_Y)  # Compute width and height of the bounding box\n",
    "    hull = ConvexHull(points)  # Compute the convex hull around the cluster points\n",
    "    hull_points = np.vstack([hull.points[hull.vertices], hull.points[hull.vertices][0]])  # Close the hull loop\n",
    "\n",
    "    # Interpolate the convex hull for smoother boundaries\n",
    "    dist = np.sqrt(np.sum(np.diff(hull_points, axis=0)**2, axis=1)).cumsum()  # Compute cumulative distances along the hull\n",
    "    dist = np.insert(dist, 0, 0)  # Add starting point for distance interpolation\n",
    "    spline, _ = interpolate.splprep([hull_points[:, 0], hull_points[:, 1]], u=dist, s=0)  # Fit a spline to the hull\n",
    "    interp_d = np.linspace(0, dist[-1], 50)  # Generate equally spaced points along the spline\n",
    "    interp_x, interp_y = interpolate.splev(interp_d, spline)  # Evaluate the spline at the generated points\n",
    "    interp_points = list(zip(interp_x, interp_y))  # Create a list of interpolated points\n",
    "\n",
    "    # Create a mask using the interpolated boundary\n",
    "    img = Image.new(\"RGBA\", (width, height), (255, 255, 255))  # Create a blank image for the mask\n",
    "    draw = ImageDraw.Draw(img)  # Initialize drawing context\n",
    "    draw.polygon(interp_points, fill=(0, 0, 0))  # Draw the boundary polygon\n",
    "    mask = np.array(img)  # Convert the image to a NumPy array\n",
    "\n",
    "    # Collect text associated with the current cluster\n",
    "    text = ' '.join(sum((lemmas_collector[id] for id in cluster), []))  # Concatenate lemmas for the cluster\n",
    "\n",
    "    # Count word frequencies in the text\n",
    "    dictionary = multidict.MultiDict()  # Initialize a multidict for word frequencies\n",
    "    for word in text.split():  # Iterate through words in the text\n",
    "        dictionary.add(word, dictionary.get(word, 0) + 1)  # Increment the word frequency\n",
    "\n",
    "    # Generate the word cloud for the current cluster\n",
    "    max_words = math.ceil(len(dictionary) * 0.01)  # Limit the word cloud to 1% of total unique words\n",
    "    wc = WordCloud(\n",
    "        mode=\"RGBA\",  # Use RGBA mode for transparency\n",
    "        color_func=lambda *args, **kwargs: (0, 0, 0),  # Set word color to black\n",
    "        font_path=path.join('Lato-Regular.ttf'),  # Path to font file\n",
    "        mask=mask,  # Use the mask for word placement\n",
    "        normalize_plurals=False,  # Avoid normalizing plurals\n",
    "        prefer_horizontal=1,  # Prefer horizontal words\n",
    "        margin=40,  # Add margin around words\n",
    "        background_color=None,  # Transparent background\n",
    "        min_font_size=10,  # Minimum font size\n",
    "        max_font_size=100,  # Maximum font size\n",
    "        relative_scaling=0,  # Disable relative scaling\n",
    "    )\n",
    "    wc.generate_from_frequencies(dictionary)  # Generate the word cloud from word frequencies\n",
    "    wc.to_file(path.join(\"../src/wordclouds/\", f\"{index:02}.png\"))  # Save the word cloud to file\n",
    "\n",
    "    print(f\"Processed cluster {index}, max_words={max_words}\")  # Log the processed cluster\n",
    "\n",
    "# Update the clusters variable to include only valid clusters\n",
    "clusters = valid_clusters\n",
    "print('\\nThe final valid clusters are', len(clusters))  # Output the number of valid clusters"
   ]
  },
  {
   "cell_type": "markdown",
   "metadata": {},
   "source": [
    "# Save Files"
   ]
  },
  {
   "cell_type": "code",
   "execution_count": 255,
   "metadata": {},
   "outputs": [],
   "source": [
    "json.dump(embedding.tolist(), codecs.open('../src/data/embedding.json', 'w', encoding='utf-8'), separators=(',', ':'), sort_keys=False, indent=4)\n",
    "json.dump(lemmas_collector, codecs.open('../src/data/lemmas.json', 'w', encoding='utf-8'), separators=(',', ':'), sort_keys=False, indent=4)\n",
    "json.dump(clusters, codecs.open('../src/data/clusters.json', 'w', encoding='utf-8'), separators=(',', ':'), sort_keys=False, indent=4)"
   ]
  }
 ],
 "metadata": {
  "kernelspec": {
   "display_name": "peirce",
   "language": "python",
   "name": "python3"
  },
  "language_info": {
   "codemirror_mode": {
    "name": "ipython",
    "version": 3
   },
   "file_extension": ".py",
   "mimetype": "text/x-python",
   "name": "python",
   "nbconvert_exporter": "python",
   "pygments_lexer": "ipython3",
   "version": "3.10.13"
  },
  "orig_nbformat": 2
 },
 "nbformat": 4,
 "nbformat_minor": 2
}
